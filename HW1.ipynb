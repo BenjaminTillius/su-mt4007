{
 "cells": [
  {
   "cell_type": "markdown",
   "id": "e93e7cff-a81b-45ff-85ce-0d01373872e9",
   "metadata": {},
   "source": [
    "# Homework 1"
   ]
  },
  {
   "cell_type": "markdown",
   "id": "cd979c80-97eb-4197-a2e5-710015cce0f1",
   "metadata": {},
   "source": [
    "My name is Benjamin Tillius. I am 27 years old from Stockholm. I have been stuying diffrent courses at Stockholm Univeristy for the last three years, but usually only at 50% speed (one course at a time) due to also working part time at a resturant. My only previous experiences of data scinence is the courses I have read on the university (DA4002 and DA2007). "
   ]
  },
  {
   "cell_type": "code",
   "execution_count": null,
   "id": "416a27d4-391b-46f4-be99-e333e7855c1e",
   "metadata": {},
   "outputs": [],
   "source": []
  }
 ],
 "metadata": {
  "kernelspec": {
   "display_name": "Python 3 (ipykernel)",
   "language": "python",
   "name": "python3"
  },
  "language_info": {
   "codemirror_mode": {
    "name": "ipython",
    "version": 3
   },
   "file_extension": ".py",
   "mimetype": "text/x-python",
   "name": "python",
   "nbconvert_exporter": "python",
   "pygments_lexer": "ipython3",
   "version": "3.13.0"
  }
 },
 "nbformat": 4,
 "nbformat_minor": 5
}
