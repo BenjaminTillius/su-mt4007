{
 "cells": [
  {
   "cell_type": "code",
   "execution_count": 1,
   "id": "52c171c5-3889-4399-8c73-b2532df707c3",
   "metadata": {},
   "outputs": [
    {
     "name": "stdout",
     "output_type": "stream",
     "text": [
      "Markdown Word Count: 932\n",
      "Code Word Count: 989\n",
      "Total Word Count: 1921\n"
     ]
    }
   ],
   "source": [
    "import nbformat\n",
    "\n",
    "# Load the current notebook\n",
    "def count_words_in_current_notebook(notebook_path):\n",
    "    with open(notebook_path, 'r', encoding='utf-8') as f:\n",
    "        notebook = nbformat.read(f, as_version=4)\n",
    "\n",
    "    markdown_word_count = 0\n",
    "    code_word_count = 0\n",
    "\n",
    "    for cell in notebook['cells']:\n",
    "        if cell['cell_type'] == 'markdown':\n",
    "            markdown_word_count += len(cell['source'].split())\n",
    "        elif cell['cell_type'] == 'code':\n",
    "            code_word_count += len(cell['source'].split())\n",
    "\n",
    "    return markdown_word_count, code_word_count\n",
    "\n",
    "# Use the current notebook's name\n",
    "current_notebook = \"utkast.ipynb\"  # Replace with your notebook's filename\n",
    "markdown_count, code_count = count_words_in_current_notebook(current_notebook)\n",
    "\n",
    "print(f\"Markdown Word Count: {markdown_count}\")\n",
    "print(f\"Code Word Count: {code_count}\")\n",
    "print(f\"Total Word Count: {markdown_count + code_count}\")\n"
   ]
  },
  {
   "cell_type": "code",
   "execution_count": null,
   "id": "861afb3f-5787-4206-bbb5-a979d55d7e26",
   "metadata": {},
   "outputs": [],
   "source": []
  }
 ],
 "metadata": {
  "kernelspec": {
   "display_name": "Python 3 (ipykernel)",
   "language": "python",
   "name": "python3"
  },
  "language_info": {
   "codemirror_mode": {
    "name": "ipython",
    "version": 3
   },
   "file_extension": ".py",
   "mimetype": "text/x-python",
   "name": "python",
   "nbconvert_exporter": "python",
   "pygments_lexer": "ipython3",
   "version": "3.13.0"
  }
 },
 "nbformat": 4,
 "nbformat_minor": 5
}
