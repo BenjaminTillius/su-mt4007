{
 "cells": [
  {
   "cell_type": "markdown",
   "id": "13ce91c6-6c0c-4382-8277-9dbb38e18af5",
   "metadata": {},
   "source": [
    "# Homework 2"
   ]
  },
  {
   "cell_type": "markdown",
   "id": "f9b49bcd-9ecf-45b5-854d-92681b7a4b40",
   "metadata": {},
   "source": [
    "## Appartment Prices"
   ]
  },
  {
   "cell_type": "code",
   "execution_count": 71,
   "id": "0ec9e285-65e3-457c-9e31-79cc5cf2e8dd",
   "metadata": {},
   "outputs": [],
   "source": [
    "import pandas as pd"
   ]
  },
  {
   "cell_type": "markdown",
   "id": "2d49f475-8f52-406e-a289-158698346ae6",
   "metadata": {},
   "source": [
    "Read the raw csv link and save it as a dataset"
   ]
  },
  {
   "cell_type": "code",
   "execution_count": 72,
   "id": "8ffdd8e9-55be-4368-8013-fea092f04e90",
   "metadata": {
    "scrolled": true
   },
   "outputs": [],
   "source": [
    "df_appartment_prices = pd.read_csv(\"https://raw.githubusercontent.com/su-mt4007/data/refs/heads/main/Booli_sold.csv\")"
   ]
  },
  {
   "cell_type": "markdown",
   "id": "33ae4b75-6cd4-45de-a176-b4580ebac005",
   "metadata": {},
   "source": [
    "Divide the soldPrice with livingArea to calculate the price per squaremeter."
   ]
  },
  {
   "cell_type": "code",
   "execution_count": 73,
   "id": "25709e4c-c054-42fa-9232-36195d550b9c",
   "metadata": {},
   "outputs": [],
   "source": [
    "df_appartment_prices[\"ppsqm\"] = df_appartment_prices[\"soldPrice\"] / df_appartment_prices[\"livingArea\"]"
   ]
  },
  {
   "cell_type": "markdown",
   "id": "a31dd0f2-3f21-4a01-9b0f-52c2804d92e5",
   "metadata": {},
   "source": [
    "Sort it by ppsqm, present the top five using head function."
   ]
  },
  {
   "cell_type": "code",
   "execution_count": 74,
   "id": "4d1d52db-f5f2-45a9-9600-2ab660219b81",
   "metadata": {
    "scrolled": true
   },
   "outputs": [
    {
     "data": {
      "text/html": [
       "<div>\n",
       "<style scoped>\n",
       "    .dataframe tbody tr th:only-of-type {\n",
       "        vertical-align: middle;\n",
       "    }\n",
       "\n",
       "    .dataframe tbody tr th {\n",
       "        vertical-align: top;\n",
       "    }\n",
       "\n",
       "    .dataframe thead th {\n",
       "        text-align: right;\n",
       "    }\n",
       "</style>\n",
       "<table border=\"1\" class=\"dataframe\">\n",
       "  <thead>\n",
       "    <tr style=\"text-align: right;\">\n",
       "      <th></th>\n",
       "      <th>listPrice</th>\n",
       "      <th>rent</th>\n",
       "      <th>livingArea</th>\n",
       "      <th>rooms</th>\n",
       "      <th>published</th>\n",
       "      <th>constructionYear</th>\n",
       "      <th>objectType</th>\n",
       "      <th>booliId</th>\n",
       "      <th>soldDate</th>\n",
       "      <th>soldPrice</th>\n",
       "      <th>...</th>\n",
       "      <th>location.position.longitude</th>\n",
       "      <th>location.position.isApproximate</th>\n",
       "      <th>location.region.municipalityName</th>\n",
       "      <th>location.region.countyName</th>\n",
       "      <th>location.distance.ocean</th>\n",
       "      <th>source.name</th>\n",
       "      <th>source.id</th>\n",
       "      <th>source.type</th>\n",
       "      <th>source.url</th>\n",
       "      <th>ppsqm</th>\n",
       "    </tr>\n",
       "  </thead>\n",
       "  <tbody>\n",
       "    <tr>\n",
       "      <th>67</th>\n",
       "      <td>1595000</td>\n",
       "      <td>1464.0</td>\n",
       "      <td>24.0</td>\n",
       "      <td>1.0</td>\n",
       "      <td>2016-01-07 14:51:06</td>\n",
       "      <td>1935.0</td>\n",
       "      <td>Lägenhet</td>\n",
       "      <td>2018259</td>\n",
       "      <td>2016-01-21</td>\n",
       "      <td>2500000</td>\n",
       "      <td>...</td>\n",
       "      <td>18.055270</td>\n",
       "      <td>NaN</td>\n",
       "      <td>Stockholm</td>\n",
       "      <td>Stockholms län</td>\n",
       "      <td>161</td>\n",
       "      <td>Notar</td>\n",
       "      <td>1566</td>\n",
       "      <td>Broker</td>\n",
       "      <td>http://www.notar.se/</td>\n",
       "      <td>104166.666667</td>\n",
       "    </tr>\n",
       "    <tr>\n",
       "      <th>50</th>\n",
       "      <td>1890000</td>\n",
       "      <td>1464.0</td>\n",
       "      <td>24.0</td>\n",
       "      <td>1.0</td>\n",
       "      <td>2016-06-11 08:55:51</td>\n",
       "      <td>1935.0</td>\n",
       "      <td>Lägenhet</td>\n",
       "      <td>2125576</td>\n",
       "      <td>2016-06-21</td>\n",
       "      <td>2450000</td>\n",
       "      <td>...</td>\n",
       "      <td>18.055270</td>\n",
       "      <td>NaN</td>\n",
       "      <td>Stockholm</td>\n",
       "      <td>Stockholms län</td>\n",
       "      <td>161</td>\n",
       "      <td>HusmanHagberg</td>\n",
       "      <td>1610</td>\n",
       "      <td>Broker</td>\n",
       "      <td>http://www.husmanhagberg.se/</td>\n",
       "      <td>102083.333333</td>\n",
       "    </tr>\n",
       "    <tr>\n",
       "      <th>54</th>\n",
       "      <td>1795000</td>\n",
       "      <td>1374.0</td>\n",
       "      <td>23.0</td>\n",
       "      <td>1.0</td>\n",
       "      <td>2016-04-15 19:10:49</td>\n",
       "      <td>1935.0</td>\n",
       "      <td>Lägenhet</td>\n",
       "      <td>2078171</td>\n",
       "      <td>2016-04-28</td>\n",
       "      <td>2300000</td>\n",
       "      <td>...</td>\n",
       "      <td>18.055422</td>\n",
       "      <td>True</td>\n",
       "      <td>Stockholm</td>\n",
       "      <td>Stockholms län</td>\n",
       "      <td>135</td>\n",
       "      <td>Notar</td>\n",
       "      <td>1566</td>\n",
       "      <td>Broker</td>\n",
       "      <td>http://www.notar.se/</td>\n",
       "      <td>100000.000000</td>\n",
       "    </tr>\n",
       "    <tr>\n",
       "      <th>34</th>\n",
       "      <td>1750000</td>\n",
       "      <td>1144.0</td>\n",
       "      <td>25.0</td>\n",
       "      <td>1.0</td>\n",
       "      <td>2017-05-18 16:20:57</td>\n",
       "      <td>1936.0</td>\n",
       "      <td>Lägenhet</td>\n",
       "      <td>2330886</td>\n",
       "      <td>2017-06-01</td>\n",
       "      <td>2210000</td>\n",
       "      <td>...</td>\n",
       "      <td>18.053880</td>\n",
       "      <td>NaN</td>\n",
       "      <td>Stockholm</td>\n",
       "      <td>Stockholms län</td>\n",
       "      <td>218</td>\n",
       "      <td>HusmanHagberg</td>\n",
       "      <td>1610</td>\n",
       "      <td>Broker</td>\n",
       "      <td>http://www.husmanhagberg.se/</td>\n",
       "      <td>88400.000000</td>\n",
       "    </tr>\n",
       "    <tr>\n",
       "      <th>55</th>\n",
       "      <td>1895000</td>\n",
       "      <td>1522.0</td>\n",
       "      <td>26.9</td>\n",
       "      <td>1.0</td>\n",
       "      <td>2016-04-01 22:56:37</td>\n",
       "      <td>1968.0</td>\n",
       "      <td>Lägenhet</td>\n",
       "      <td>2067384</td>\n",
       "      <td>2016-04-19</td>\n",
       "      <td>2300000</td>\n",
       "      <td>...</td>\n",
       "      <td>18.058529</td>\n",
       "      <td>True</td>\n",
       "      <td>Stockholm</td>\n",
       "      <td>Stockholms län</td>\n",
       "      <td>298</td>\n",
       "      <td>Notar</td>\n",
       "      <td>1566</td>\n",
       "      <td>Broker</td>\n",
       "      <td>http://www.notar.se/</td>\n",
       "      <td>85501.858736</td>\n",
       "    </tr>\n",
       "  </tbody>\n",
       "</table>\n",
       "<p>5 rows × 28 columns</p>\n",
       "</div>"
      ],
      "text/plain": [
       "    listPrice    rent  livingArea  rooms            published  \\\n",
       "67    1595000  1464.0        24.0    1.0  2016-01-07 14:51:06   \n",
       "50    1890000  1464.0        24.0    1.0  2016-06-11 08:55:51   \n",
       "54    1795000  1374.0        23.0    1.0  2016-04-15 19:10:49   \n",
       "34    1750000  1144.0        25.0    1.0  2017-05-18 16:20:57   \n",
       "55    1895000  1522.0        26.9    1.0  2016-04-01 22:56:37   \n",
       "\n",
       "    constructionYear objectType  booliId    soldDate  soldPrice  ...  \\\n",
       "67            1935.0   Lägenhet  2018259  2016-01-21    2500000  ...   \n",
       "50            1935.0   Lägenhet  2125576  2016-06-21    2450000  ...   \n",
       "54            1935.0   Lägenhet  2078171  2016-04-28    2300000  ...   \n",
       "34            1936.0   Lägenhet  2330886  2017-06-01    2210000  ...   \n",
       "55            1968.0   Lägenhet  2067384  2016-04-19    2300000  ...   \n",
       "\n",
       "   location.position.longitude location.position.isApproximate  \\\n",
       "67                   18.055270                             NaN   \n",
       "50                   18.055270                             NaN   \n",
       "54                   18.055422                            True   \n",
       "34                   18.053880                             NaN   \n",
       "55                   18.058529                            True   \n",
       "\n",
       "    location.region.municipalityName  location.region.countyName  \\\n",
       "67                         Stockholm              Stockholms län   \n",
       "50                         Stockholm              Stockholms län   \n",
       "54                         Stockholm              Stockholms län   \n",
       "34                         Stockholm              Stockholms län   \n",
       "55                         Stockholm              Stockholms län   \n",
       "\n",
       "    location.distance.ocean    source.name source.id  source.type  \\\n",
       "67                      161          Notar      1566       Broker   \n",
       "50                      161  HusmanHagberg      1610       Broker   \n",
       "54                      135          Notar      1566       Broker   \n",
       "34                      218  HusmanHagberg      1610       Broker   \n",
       "55                      298          Notar      1566       Broker   \n",
       "\n",
       "                      source.url          ppsqm  \n",
       "67          http://www.notar.se/  104166.666667  \n",
       "50  http://www.husmanhagberg.se/  102083.333333  \n",
       "54          http://www.notar.se/  100000.000000  \n",
       "34  http://www.husmanhagberg.se/   88400.000000  \n",
       "55          http://www.notar.se/   85501.858736  \n",
       "\n",
       "[5 rows x 28 columns]"
      ]
     },
     "execution_count": 74,
     "metadata": {},
     "output_type": "execute_result"
    }
   ],
   "source": [
    "df_appartment_prices_sorted = df_appartment_prices.sort_values(\"ppsqm\", ascending = False)\n",
    "df_appartment_prices_sorted.head(5)"
   ]
  },
  {
   "cell_type": "markdown",
   "id": "fa3eb84b-28e5-4a93-8f82-4f76f36ddcbf",
   "metadata": {},
   "source": [
    "Calculate the average using the .mean() function."
   ]
  },
  {
   "cell_type": "code",
   "execution_count": 75,
   "id": "43d31990-058c-4411-9075-82e43257e25b",
   "metadata": {},
   "outputs": [
    {
     "data": {
      "text/plain": [
       "58759.382760081724"
      ]
     },
     "execution_count": 75,
     "metadata": {},
     "output_type": "execute_result"
    }
   ],
   "source": [
    "average_ppsqm = df_appartment_prices_sorted[\"ppsqm\"].mean()\n",
    "float(average_ppsqm)"
   ]
  },
  {
   "cell_type": "markdown",
   "id": "32a440d9-06c6-46d8-8dab-068665c90bcd",
   "metadata": {},
   "source": [
    "I want to examine if the year the appartment where built has any correlation with the ppsqm."
   ]
  },
  {
   "cell_type": "code",
   "execution_count": 76,
   "id": "48ae6d11-caa7-45c0-a260-4578c3227059",
   "metadata": {},
   "outputs": [],
   "source": [
    "df_appartment_prices_sorted_by_year = df_appartment_prices.sort_values(\"constructionYear\", ascending = True)"
   ]
  },
  {
   "cell_type": "markdown",
   "id": "ae61b635-d2f9-4423-876a-a5c92697682a",
   "metadata": {},
   "source": [
    "Some appartments have no answer on construction year, i need to create a new dataset without these to be able to compare the oldest appartments with the newest. I then use the .tail() and .head() functions to check the 20 newest and 20 oldest appartment. I use the .mean() function to check the average of these samples. "
   ]
  },
  {
   "cell_type": "code",
   "execution_count": 77,
   "id": "8630c603-b64f-4022-993d-2fc8052eb1b2",
   "metadata": {},
   "outputs": [],
   "source": [
    "df_no_na = df_appartment_prices_sorted_by_year.dropna(subset=[\"constructionYear\"])\n",
    "average_new = df_no_na.tail(20)[\"ppsqm\"].mean()\n",
    "average_old = df_no_na.head(20)[\"ppsqm\"].mean()"
   ]
  },
  {
   "cell_type": "code",
   "execution_count": 78,
   "id": "6ca56b39-9d74-4d98-b7a0-9ea69016e1b0",
   "metadata": {},
   "outputs": [
    {
     "data": {
      "text/plain": [
       "53924"
      ]
     },
     "execution_count": 78,
     "metadata": {},
     "output_type": "execute_result"
    }
   ],
   "source": [
    "int(average_new)"
   ]
  },
  {
   "cell_type": "code",
   "execution_count": 79,
   "id": "bf5d8316-2904-4703-893b-df3fb5af847e",
   "metadata": {},
   "outputs": [
    {
     "data": {
      "text/plain": [
       "65396"
      ]
     },
     "execution_count": 79,
     "metadata": {},
     "output_type": "execute_result"
    }
   ],
   "source": [
    "int(average_old)"
   ]
  },
  {
   "cell_type": "markdown",
   "id": "284ab817-9f4f-4c8c-8c68-660d6ceb4024",
   "metadata": {},
   "source": [
    "### Conclusion"
   ]
  },
  {
   "cell_type": "markdown",
   "id": "115b9552-71bc-44a9-9d70-5bd937b8de48",
   "metadata": {},
   "source": [
    "The 20 oldest appartments are on average more expensive per squaremeter then the 20 newest. You could try this with tail/head (30) or (50) and get a similar result."
   ]
  },
  {
   "cell_type": "markdown",
   "id": "8f0f575f-6c22-4b75-9ba0-98669fc740f8",
   "metadata": {},
   "source": [
    "## The Swedish Election of 2018\n"
   ]
  },
  {
   "cell_type": "markdown",
   "id": "f5cbd6e3-bb90-4a35-8809-9a4af668bbdc",
   "metadata": {},
   "source": [
    "Read the file, setting conditions for delimiters, decimals and NA values."
   ]
  },
  {
   "cell_type": "code",
   "execution_count": 80,
   "id": "42be809c-6459-45aa-b871-767758e961cf",
   "metadata": {},
   "outputs": [],
   "source": [
    "df_election = pd.read_csv(\"https://raw.githubusercontent.com/su-mt4007/data/refs/heads/main/2018_R_per_kommun.csv\", delimiter = \";\", decimal = \",\", na_values = [\" \", \"\"])"
   ]
  },
  {
   "cell_type": "markdown",
   "id": "a9ec176a-217d-4ca8-83c7-a70f6f55d7b8",
   "metadata": {},
   "source": [
    "I create a new dataset, only containing the the municipalities in \"Stockholms län\". I then use the .sum() function to count all legitimate votes and present the result as an int. "
   ]
  },
  {
   "cell_type": "code",
   "execution_count": 81,
   "id": "f0070c19-95ea-4a1d-bdfa-77992a681a10",
   "metadata": {},
   "outputs": [
    {
     "data": {
      "text/plain": [
       "1426237"
      ]
     },
     "execution_count": 81,
     "metadata": {},
     "output_type": "execute_result"
    }
   ],
   "source": [
    "df_stockholm = df_election[df_election[\"LÄNSNAMN\"].str.contains(\"Stockholms län\")]\n",
    "legitimate_total = df_stockholm[\"RÖSTER GILTIGA\"].sum()\n",
    "int(legitimate_total)"
   ]
  },
  {
   "cell_type": "markdown",
   "id": "454a0b68-ac33-4fea-9d89-d2cd3747d50b",
   "metadata": {},
   "source": [
    "I save the answer as a variable called \"highest_S\". To find it i sort the dataframe by the column \"S\" and then i locate the name of the municipality with highest number with function .iloc[0] (lists start from 0 not from 1). "
   ]
  },
  {
   "cell_type": "code",
   "execution_count": 82,
   "id": "77e8e990-49d7-418f-ad70-68c998eb6b52",
   "metadata": {},
   "outputs": [
    {
     "data": {
      "text/plain": [
       "'Munkfors'"
      ]
     },
     "execution_count": 82,
     "metadata": {},
     "output_type": "execute_result"
    }
   ],
   "source": [
    "highest_S = df_election.sort_values(\"S\", ascending = False).iloc[0][\"KOMMUNNAMN\"]\n",
    "highest_S"
   ]
  },
  {
   "cell_type": "markdown",
   "id": "c3c3afa1-bb4a-4c3a-9289-6f7268a840ef",
   "metadata": {},
   "source": [
    "I create a new dataframe only containing the name of the municipality and the voting participitacion. I also sort it by participitacion. Present it with .head(3)"
   ]
  },
  {
   "cell_type": "code",
   "execution_count": 97,
   "id": "c6be60e7-ee09-4718-9c1e-b39180660415",
   "metadata": {},
   "outputs": [
    {
     "data": {
      "text/html": [
       "<div>\n",
       "<style scoped>\n",
       "    .dataframe tbody tr th:only-of-type {\n",
       "        vertical-align: middle;\n",
       "    }\n",
       "\n",
       "    .dataframe tbody tr th {\n",
       "        vertical-align: top;\n",
       "    }\n",
       "\n",
       "    .dataframe thead th {\n",
       "        text-align: right;\n",
       "    }\n",
       "</style>\n",
       "<table border=\"1\" class=\"dataframe\">\n",
       "  <thead>\n",
       "    <tr style=\"text-align: right;\">\n",
       "      <th></th>\n",
       "      <th>KOMMUNNAMN</th>\n",
       "      <th>VALDELTAGANDE</th>\n",
       "    </tr>\n",
       "  </thead>\n",
       "  <tbody>\n",
       "    <tr>\n",
       "      <th>103</th>\n",
       "      <td>Lomma</td>\n",
       "      <td>93.86</td>\n",
       "    </tr>\n",
       "    <tr>\n",
       "      <th>59</th>\n",
       "      <td>Habo</td>\n",
       "      <td>93.35</td>\n",
       "    </tr>\n",
       "    <tr>\n",
       "      <th>98</th>\n",
       "      <td>Vellinge</td>\n",
       "      <td>93.13</td>\n",
       "    </tr>\n",
       "  </tbody>\n",
       "</table>\n",
       "</div>"
      ],
      "text/plain": [
       "    KOMMUNNAMN  VALDELTAGANDE\n",
       "103      Lomma          93.86\n",
       "59        Habo          93.35\n",
       "98    Vellinge          93.13"
      ]
     },
     "execution_count": 97,
     "metadata": {},
     "output_type": "execute_result"
    }
   ],
   "source": [
    "df_sorted_participation_relevent = df_election.sort_values(\"VALDELTAGANDE\", ascending = False)[[\"KOMMUNNAMN\", \"VALDELTAGANDE\"]]\n",
    "df_sorted_participation_relevent.head(3)"
   ]
  },
  {
   "cell_type": "markdown",
   "id": "50377ab1-9c0e-45ec-8b25-ba4c408a226f",
   "metadata": {},
   "source": [
    "# Predicting Strokes"
   ]
  },
  {
   "cell_type": "markdown",
   "id": "086e86a3-7c79-4900-b5ad-bff8159476c6",
   "metadata": {},
   "source": [
    "First read the data and save it as a dataframe."
   ]
  },
  {
   "cell_type": "code",
   "execution_count": 84,
   "id": "714d9212-b445-4ddc-9551-e60a7190dac2",
   "metadata": {},
   "outputs": [],
   "source": [
    "df_stroke = pd.read_csv(\"https://raw.githubusercontent.com/su-mt4007/data/refs/heads/main/stroke-data.csv\")"
   ]
  },
  {
   "cell_type": "markdown",
   "id": "b8dfeb44-9bf7-4764-82d3-8cbf2576f1b0",
   "metadata": {},
   "source": [
    "I then count how many people have had an heart attack and then calculate the percentage"
   ]
  },
  {
   "cell_type": "code",
   "execution_count": 98,
   "id": "62365df1-c00d-474c-828a-f1f1e8c1bfc1",
   "metadata": {},
   "outputs": [],
   "source": [
    "stroke_total = df_stroke[\"stroke\"].value_counts()\n",
    "percentage_total = int(stroke_total[1]) / int(stroke_total.sum())"
   ]
  },
  {
   "cell_type": "markdown",
   "id": "c03bc914-a41d-4e0c-9fb9-2097f0107a1a",
   "metadata": {},
   "source": [
    "I then do this depending on diffrent variables. Meaning i count the percentage of people that have had a heart attack in the groups that checked \"Rural\" and \"Urban\" respectivly."
   ]
  },
  {
   "cell_type": "code",
   "execution_count": 99,
   "id": "631ba52b-afa1-40b0-b039-543e3960ee50",
   "metadata": {},
   "outputs": [],
   "source": [
    "df_rural = df_stroke[df_stroke[\"Residence_type\"].str.contains(\"Rural\")]\n",
    "stroke_rural = df_rural[\"stroke\"].value_counts()\n",
    "percentage_rural = int(stroke_rural[1]) / int(stroke_rural.sum())"
   ]
  },
  {
   "cell_type": "code",
   "execution_count": 100,
   "id": "0a5bb523-291b-42c0-b9b0-1dc5f38e182f",
   "metadata": {},
   "outputs": [],
   "source": [
    "df_urban = df_stroke[df_stroke[\"Residence_type\"].str.contains(\"Urban\")]\n",
    "stroke_urban = df_urban[\"stroke\"].value_counts()\n",
    "percentage_urban = int(stroke_urban[1]) / int(stroke_urban.sum())"
   ]
  },
  {
   "cell_type": "markdown",
   "id": "892c967d-09d6-42af-b8fa-e8b591078344",
   "metadata": {},
   "source": [
    "I then do the same with the groups that under \"smoking satues\" checked \"smokes\", \"never smoked\" and \"formerly smoked\". "
   ]
  },
  {
   "cell_type": "code",
   "execution_count": 101,
   "id": "ba9920e5-d948-4d7d-89d1-0296a06a972d",
   "metadata": {},
   "outputs": [],
   "source": [
    "df_smokes = df_stroke[df_stroke[\"smoking_status\"].str.contains(\"smokes\")]\n",
    "stroke_smokes = df_smokes[\"stroke\"].value_counts()\n",
    "percentage_smokes = int(stroke_smokes[1]) / int(stroke_smokes.sum())"
   ]
  },
  {
   "cell_type": "code",
   "execution_count": 102,
   "id": "e595e507-05a0-4664-8ec7-40ce06e3e174",
   "metadata": {},
   "outputs": [],
   "source": [
    "df_never_smoked = df_stroke[df_stroke[\"smoking_status\"].str.contains(\"never smoked\")]\n",
    "stroke_never_smoked = df_never_smoked[\"stroke\"].value_counts()\n",
    "percentage_never_smoked = int(stroke_never_smoked[1]) / int(stroke_never_smoked.sum())"
   ]
  },
  {
   "cell_type": "code",
   "execution_count": 103,
   "id": "f961de52-adf4-45e4-86d4-a2b8d4a340d5",
   "metadata": {},
   "outputs": [],
   "source": [
    "df_formerly_smoked = df_stroke[df_stroke[\"smoking_status\"].str.contains(\"formerly smoked\")]\n",
    "stroke_formerly_smoked = df_formerly_smoked[\"stroke\"].value_counts()\n",
    "percentage_formerly_smoked = int(stroke_formerly_smoked[1]) / int(stroke_formerly_smoked.sum())"
   ]
  },
  {
   "cell_type": "markdown",
   "id": "2094c4f5-f791-4383-9396-0c8776993990",
   "metadata": {},
   "source": [
    "I then compare with if you have a heart desease"
   ]
  },
  {
   "cell_type": "code",
   "execution_count": 116,
   "id": "7f0435f7-9c10-460f-a318-1efffbf037b0",
   "metadata": {},
   "outputs": [],
   "source": [
    "df_have_heart_disease = df_stroke[df_stroke[\"heart_disease\"] == 1]\n",
    "stroke_have_heart_disease = df_have_heart_disease[\"stroke\"].value_counts()\n",
    "percentage_have_heart_disease = int(stroke_have_heart_disease[1]) / int(stroke_have_heart_disease.sum())"
   ]
  },
  {
   "cell_type": "code",
   "execution_count": 117,
   "id": "56f92345-0c67-4707-98b8-873174888514",
   "metadata": {},
   "outputs": [
    {
     "data": {
      "text/plain": [
       "0.17028985507246377"
      ]
     },
     "execution_count": 117,
     "metadata": {},
     "output_type": "execute_result"
    }
   ],
   "source": [
    "float(percentage_have_heart_disease)"
   ]
  },
  {
   "cell_type": "code",
   "execution_count": 118,
   "id": "4795f9cb-0f0e-4ec8-969a-84e2853bc4e9",
   "metadata": {},
   "outputs": [],
   "source": [
    "df_no_heart_disease = df_stroke[df_stroke[\"heart_disease\"] == 0]\n",
    "stroke_no_heart_disease = df_no_heart_disease[\"stroke\"].value_counts()\n",
    "percentage_no_heart_disease = int(stroke_no_heart_disease[1]) / int(stroke_no_heart_disease.sum())"
   ]
  },
  {
   "cell_type": "markdown",
   "id": "6c380600-0202-4cbb-8e68-9cd683053d55",
   "metadata": {},
   "source": [
    "I then create a dictionary to have better structure"
   ]
  },
  {
   "cell_type": "code",
   "execution_count": 124,
   "id": "e79a88ea-8ce3-464d-98a3-3233c3504faf",
   "metadata": {},
   "outputs": [],
   "source": [
    "percentage_dict = { \n",
    "    \"Total\" : percentage_total,\n",
    "    \"Rural\" : percentage_rural,\n",
    "    \"Urban\" : percentage_urban, \n",
    "    \"Smokes\" : percentage_smokes, \n",
    "    \"Formerly \\n smoked\" : percentage_formerly_smoked, \n",
    "    \"Never \\n smoked\" : percentage_never_smoked,\n",
    "    \"Have a \\n heart \\n disease\" : percentage_have_heart_disease,\n",
    "    \"Have no \\n heart \\n disease\" : percentage_no_heart_disease}"
   ]
  },
  {
   "cell_type": "markdown",
   "id": "ec7d888e-a72c-4a96-a946-43d9dbe882a7",
   "metadata": {},
   "source": [
    "I create two lists that i want to use for the plot, one with the names of the groups, called \"labels\", and one with the percantages (multipled by 100 to get it that 0.05 = 5, representing 5%) called percentages."
   ]
  },
  {
   "cell_type": "code",
   "execution_count": 125,
   "id": "69976051-7756-47a4-85b8-9d167d431620",
   "metadata": {},
   "outputs": [],
   "source": [
    "labels = list(percentage_dict.keys())\n",
    "percentages = [value * 100 for value in percentage_dict.values()]"
   ]
  },
  {
   "cell_type": "markdown",
   "id": "be5c8951-08c0-4fbd-9e5e-fc1e389a1e67",
   "metadata": {},
   "source": [
    "I then plot it with matplotlib, using describing labels and title."
   ]
  },
  {
   "cell_type": "code",
   "execution_count": 126,
   "id": "64f1747d-98cf-4cc4-bc10-336f07732c58",
   "metadata": {},
   "outputs": [],
   "source": [
    "import matplotlib.pyplot as plt"
   ]
  },
  {
   "cell_type": "code",
   "execution_count": 127,
   "id": "be09a719-99da-4768-8c8a-3e881ec398b6",
   "metadata": {},
   "outputs": [
    {
     "data": {
      "image/png": "[encoded data removed]",
      "text/plain": [
       "<Figure size 640x480 with 1 Axes>"
      ]
     },
     "metadata": {},
     "output_type": "display_data"
    }
   ],
   "source": [
    "plt.bar(labels, percentages, color='skyblue')\n",
    "plt.xlabel(\"Groups\")\n",
    "plt.ylabel(\"Percentages (%)\")\n",
    "plt.title(\"How many percent in each group had a heart disease (%)\")\n",
    "plt.show()"
   ]
  },
  {
   "cell_type": "markdown",
   "id": "0151615e-1ac8-4979-b65b-f6edea3e59b3",
   "metadata": {},
   "source": [
    "### Conclusion"
   ]
  },
  {
   "cell_type": "markdown",
   "id": "029e9a78-0f0e-472c-b17e-4a5718ff1846",
   "metadata": {},
   "source": [
    "It is hard to draw to many conclusions. The easy one to draw is that if you have a heart disease you have a higher chance of having a stroke then if you dont have one (pretty intuative). What can also be said is that this seem to be much more relevent then your smoking status and if you live in a rural or urban enviroment does not seem to affect this much at all, in comparison. A conclusion that could be drawn, based only on these parameters and dataset, is that you are more likley to get a stroke if you quit smoking then if you continue to smoke. This conclusion seem pretty counter-intuative and you would need to examine this further. One hypothesis for this result could be that you are likley to stop smoking after you have hade a stroke. Also the dataset does not provide info about how long or how much either groups smokes/smoked. "
   ]
  },
  {
   "cell_type": "code",
   "execution_count": null,
   "id": "70421f3b-bccf-459a-b72b-8140018a8d03",
   "metadata": {},
   "outputs": [],
   "source": []
  }
 ],
 "metadata": {
  "kernelspec": {
   "display_name": "Python 3 (ipykernel)",
   "language": "python",
   "name": "python3"
  },
  "language_info": {
   "codemirror_mode": {
    "name": "ipython",
    "version": 3
   },
   "file_extension": ".py",
   "mimetype": "text/x-python",
   "name": "python",
   "nbconvert_exporter": "python",
   "pygments_lexer": "ipython3",
   "version": "3.13.0"
  }
 },
 "nbformat": 4,
 "nbformat_minor": 5
}
