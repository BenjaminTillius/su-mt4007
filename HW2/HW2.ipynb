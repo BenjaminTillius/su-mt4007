{
 "cells": [
  {
   "cell_type": "markdown",
   "id": "13ce91c6-6c0c-4382-8277-9dbb38e18af5",
   "metadata": {},
   "source": [
    "# Homework 2"
   ]
  },
  {
   "cell_type": "markdown",
   "id": "f9b49bcd-9ecf-45b5-854d-92681b7a4b40",
   "metadata": {},
   "source": [
    "## Appartment Prices"
   ]
  },
  {
   "cell_type": "code",
   "execution_count": 3,
   "id": "0ec9e285-65e3-457c-9e31-79cc5cf2e8dd",
   "metadata": {},
   "outputs": [],
   "source": [
    "import pandas as pd"
   ]
  },
  {
   "cell_type": "markdown",
   "id": "2d49f475-8f52-406e-a289-158698346ae6",
   "metadata": {},
   "source": [
    "Read the raw csv link and save it as a dataset"
   ]
  },
  {
   "cell_type": "code",
   "execution_count": 4,
   "id": "8ffdd8e9-55be-4368-8013-fea092f04e90",
   "metadata": {
    "scrolled": true
   },
   "outputs": [],
   "source": [
    "df_appartment_prices = pd.read_csv(\"https://raw.githubusercontent.com/su-mt4007/data/refs/heads/main/Booli_sold.csv\")"
   ]
  },
  {
   "cell_type": "markdown",
   "id": "de55378b-4809-47bd-9c62-00fb08004dab",
   "metadata": {},
   "source": [
    "Remove some unneccessary columns to make it easier to read."
   ]
  },
  {
   "cell_type": "code",
   "execution_count": 5,
   "id": "a1f38b62-9ec1-4004-94b8-93faecfdd5a7",
   "metadata": {},
   "outputs": [
    {
     "data": {
      "text/html": [
       "<div>\n",
       "<style scoped>\n",
       "    .dataframe tbody tr th:only-of-type {\n",
       "        vertical-align: middle;\n",
       "    }\n",
       "\n",
       "    .dataframe tbody tr th {\n",
       "        vertical-align: top;\n",
       "    }\n",
       "\n",
       "    .dataframe thead th {\n",
       "        text-align: right;\n",
       "    }\n",
       "</style>\n",
       "<table border=\"1\" class=\"dataframe\">\n",
       "  <thead>\n",
       "    <tr style=\"text-align: right;\">\n",
       "      <th></th>\n",
       "      <th>listPrice</th>\n",
       "      <th>livingArea</th>\n",
       "      <th>rooms</th>\n",
       "      <th>constructionYear</th>\n",
       "      <th>soldDate</th>\n",
       "      <th>soldPrice</th>\n",
       "    </tr>\n",
       "  </thead>\n",
       "  <tbody>\n",
       "    <tr>\n",
       "      <th>0</th>\n",
       "      <td>3995000</td>\n",
       "      <td>73.0</td>\n",
       "      <td>3.0</td>\n",
       "      <td>1935.0</td>\n",
       "      <td>2018-11-08</td>\n",
       "      <td>3820000</td>\n",
       "    </tr>\n",
       "    <tr>\n",
       "      <th>1</th>\n",
       "      <td>1995000</td>\n",
       "      <td>36.0</td>\n",
       "      <td>1.0</td>\n",
       "      <td>1968.0</td>\n",
       "      <td>2018-10-19</td>\n",
       "      <td>2355000</td>\n",
       "    </tr>\n",
       "    <tr>\n",
       "      <th>2</th>\n",
       "      <td>5100000</td>\n",
       "      <td>81.0</td>\n",
       "      <td>3.0</td>\n",
       "      <td>1936.0</td>\n",
       "      <td>2018-09-27</td>\n",
       "      <td>6110000</td>\n",
       "    </tr>\n",
       "    <tr>\n",
       "      <th>3</th>\n",
       "      <td>5495000</td>\n",
       "      <td>107.0</td>\n",
       "      <td>4.0</td>\n",
       "      <td>1936.0</td>\n",
       "      <td>2018-09-06</td>\n",
       "      <td>8050000</td>\n",
       "    </tr>\n",
       "    <tr>\n",
       "      <th>4</th>\n",
       "      <td>1995000</td>\n",
       "      <td>29.0</td>\n",
       "      <td>1.0</td>\n",
       "      <td>1936.0</td>\n",
       "      <td>2018-06-18</td>\n",
       "      <td>2400000</td>\n",
       "    </tr>\n",
       "    <tr>\n",
       "      <th>...</th>\n",
       "      <td>...</td>\n",
       "      <td>...</td>\n",
       "      <td>...</td>\n",
       "      <td>...</td>\n",
       "      <td>...</td>\n",
       "      <td>...</td>\n",
       "    </tr>\n",
       "    <tr>\n",
       "      <th>153</th>\n",
       "      <td>1495000</td>\n",
       "      <td>26.0</td>\n",
       "      <td>1.0</td>\n",
       "      <td>1935.0</td>\n",
       "      <td>2012-11-30</td>\n",
       "      <td>1475000</td>\n",
       "    </tr>\n",
       "    <tr>\n",
       "      <th>154</th>\n",
       "      <td>2245000</td>\n",
       "      <td>50.0</td>\n",
       "      <td>2.0</td>\n",
       "      <td>1935.0</td>\n",
       "      <td>2012-10-27</td>\n",
       "      <td>2245000</td>\n",
       "    </tr>\n",
       "    <tr>\n",
       "      <th>155</th>\n",
       "      <td>1450000</td>\n",
       "      <td>23.0</td>\n",
       "      <td>1.0</td>\n",
       "      <td>1936.0</td>\n",
       "      <td>2012-10-22</td>\n",
       "      <td>1450000</td>\n",
       "    </tr>\n",
       "    <tr>\n",
       "      <th>156</th>\n",
       "      <td>2495000</td>\n",
       "      <td>56.0</td>\n",
       "      <td>3.0</td>\n",
       "      <td>1935.0</td>\n",
       "      <td>2012-10-09</td>\n",
       "      <td>2200000</td>\n",
       "    </tr>\n",
       "    <tr>\n",
       "      <th>157</th>\n",
       "      <td>2300000</td>\n",
       "      <td>50.0</td>\n",
       "      <td>2.0</td>\n",
       "      <td>1935.0</td>\n",
       "      <td>2012-10-09</td>\n",
       "      <td>2180000</td>\n",
       "    </tr>\n",
       "  </tbody>\n",
       "</table>\n",
       "<p>158 rows × 6 columns</p>\n",
       "</div>"
      ],
      "text/plain": [
       "     listPrice  livingArea  rooms  constructionYear    soldDate  soldPrice\n",
       "0      3995000        73.0    3.0            1935.0  2018-11-08    3820000\n",
       "1      1995000        36.0    1.0            1968.0  2018-10-19    2355000\n",
       "2      5100000        81.0    3.0            1936.0  2018-09-27    6110000\n",
       "3      5495000       107.0    4.0            1936.0  2018-09-06    8050000\n",
       "4      1995000        29.0    1.0            1936.0  2018-06-18    2400000\n",
       "..         ...         ...    ...               ...         ...        ...\n",
       "153    1495000        26.0    1.0            1935.0  2012-11-30    1475000\n",
       "154    2245000        50.0    2.0            1935.0  2012-10-27    2245000\n",
       "155    1450000        23.0    1.0            1936.0  2012-10-22    1450000\n",
       "156    2495000        56.0    3.0            1935.0  2012-10-09    2200000\n",
       "157    2300000        50.0    2.0            1935.0  2012-10-09    2180000\n",
       "\n",
       "[158 rows x 6 columns]"
      ]
     },
     "execution_count": 5,
     "metadata": {},
     "output_type": "execute_result"
    }
   ],
   "source": [
    "df_appartment_prices_relevent = df_appartment_prices[[\"listPrice\", \"livingArea\", \"rooms\", \"constructionYear\", \"soldDate\", \"soldPrice\"]].copy()\n",
    "df_appartment_prices_relevent"
   ]
  },
  {
   "cell_type": "markdown",
   "id": "33ae4b75-6cd4-45de-a176-b4580ebac005",
   "metadata": {},
   "source": [
    "Divide the soldPrice with livingArea to calculate the price per squaremeter."
   ]
  },
  {
   "cell_type": "code",
   "execution_count": 6,
   "id": "25709e4c-c054-42fa-9232-36195d550b9c",
   "metadata": {},
   "outputs": [
    {
     "data": {
      "text/html": [
       "<div>\n",
       "<style scoped>\n",
       "    .dataframe tbody tr th:only-of-type {\n",
       "        vertical-align: middle;\n",
       "    }\n",
       "\n",
       "    .dataframe tbody tr th {\n",
       "        vertical-align: top;\n",
       "    }\n",
       "\n",
       "    .dataframe thead th {\n",
       "        text-align: right;\n",
       "    }\n",
       "</style>\n",
       "<table border=\"1\" class=\"dataframe\">\n",
       "  <thead>\n",
       "    <tr style=\"text-align: right;\">\n",
       "      <th></th>\n",
       "      <th>listPrice</th>\n",
       "      <th>livingArea</th>\n",
       "      <th>rooms</th>\n",
       "      <th>constructionYear</th>\n",
       "      <th>soldDate</th>\n",
       "      <th>soldPrice</th>\n",
       "      <th>ppsqm</th>\n",
       "    </tr>\n",
       "  </thead>\n",
       "  <tbody>\n",
       "    <tr>\n",
       "      <th>0</th>\n",
       "      <td>3995000</td>\n",
       "      <td>73.0</td>\n",
       "      <td>3.0</td>\n",
       "      <td>1935.0</td>\n",
       "      <td>2018-11-08</td>\n",
       "      <td>3820000</td>\n",
       "      <td>52328.767123</td>\n",
       "    </tr>\n",
       "    <tr>\n",
       "      <th>1</th>\n",
       "      <td>1995000</td>\n",
       "      <td>36.0</td>\n",
       "      <td>1.0</td>\n",
       "      <td>1968.0</td>\n",
       "      <td>2018-10-19</td>\n",
       "      <td>2355000</td>\n",
       "      <td>65416.666667</td>\n",
       "    </tr>\n",
       "    <tr>\n",
       "      <th>2</th>\n",
       "      <td>5100000</td>\n",
       "      <td>81.0</td>\n",
       "      <td>3.0</td>\n",
       "      <td>1936.0</td>\n",
       "      <td>2018-09-27</td>\n",
       "      <td>6110000</td>\n",
       "      <td>75432.098765</td>\n",
       "    </tr>\n",
       "    <tr>\n",
       "      <th>3</th>\n",
       "      <td>5495000</td>\n",
       "      <td>107.0</td>\n",
       "      <td>4.0</td>\n",
       "      <td>1936.0</td>\n",
       "      <td>2018-09-06</td>\n",
       "      <td>8050000</td>\n",
       "      <td>75233.644860</td>\n",
       "    </tr>\n",
       "    <tr>\n",
       "      <th>4</th>\n",
       "      <td>1995000</td>\n",
       "      <td>29.0</td>\n",
       "      <td>1.0</td>\n",
       "      <td>1936.0</td>\n",
       "      <td>2018-06-18</td>\n",
       "      <td>2400000</td>\n",
       "      <td>82758.620690</td>\n",
       "    </tr>\n",
       "    <tr>\n",
       "      <th>...</th>\n",
       "      <td>...</td>\n",
       "      <td>...</td>\n",
       "      <td>...</td>\n",
       "      <td>...</td>\n",
       "      <td>...</td>\n",
       "      <td>...</td>\n",
       "      <td>...</td>\n",
       "    </tr>\n",
       "    <tr>\n",
       "      <th>153</th>\n",
       "      <td>1495000</td>\n",
       "      <td>26.0</td>\n",
       "      <td>1.0</td>\n",
       "      <td>1935.0</td>\n",
       "      <td>2012-11-30</td>\n",
       "      <td>1475000</td>\n",
       "      <td>56730.769231</td>\n",
       "    </tr>\n",
       "    <tr>\n",
       "      <th>154</th>\n",
       "      <td>2245000</td>\n",
       "      <td>50.0</td>\n",
       "      <td>2.0</td>\n",
       "      <td>1935.0</td>\n",
       "      <td>2012-10-27</td>\n",
       "      <td>2245000</td>\n",
       "      <td>44900.000000</td>\n",
       "    </tr>\n",
       "    <tr>\n",
       "      <th>155</th>\n",
       "      <td>1450000</td>\n",
       "      <td>23.0</td>\n",
       "      <td>1.0</td>\n",
       "      <td>1936.0</td>\n",
       "      <td>2012-10-22</td>\n",
       "      <td>1450000</td>\n",
       "      <td>63043.478261</td>\n",
       "    </tr>\n",
       "    <tr>\n",
       "      <th>156</th>\n",
       "      <td>2495000</td>\n",
       "      <td>56.0</td>\n",
       "      <td>3.0</td>\n",
       "      <td>1935.0</td>\n",
       "      <td>2012-10-09</td>\n",
       "      <td>2200000</td>\n",
       "      <td>39285.714286</td>\n",
       "    </tr>\n",
       "    <tr>\n",
       "      <th>157</th>\n",
       "      <td>2300000</td>\n",
       "      <td>50.0</td>\n",
       "      <td>2.0</td>\n",
       "      <td>1935.0</td>\n",
       "      <td>2012-10-09</td>\n",
       "      <td>2180000</td>\n",
       "      <td>43600.000000</td>\n",
       "    </tr>\n",
       "  </tbody>\n",
       "</table>\n",
       "<p>158 rows × 7 columns</p>\n",
       "</div>"
      ],
      "text/plain": [
       "     listPrice  livingArea  rooms  constructionYear    soldDate  soldPrice  \\\n",
       "0      3995000        73.0    3.0            1935.0  2018-11-08    3820000   \n",
       "1      1995000        36.0    1.0            1968.0  2018-10-19    2355000   \n",
       "2      5100000        81.0    3.0            1936.0  2018-09-27    6110000   \n",
       "3      5495000       107.0    4.0            1936.0  2018-09-06    8050000   \n",
       "4      1995000        29.0    1.0            1936.0  2018-06-18    2400000   \n",
       "..         ...         ...    ...               ...         ...        ...   \n",
       "153    1495000        26.0    1.0            1935.0  2012-11-30    1475000   \n",
       "154    2245000        50.0    2.0            1935.0  2012-10-27    2245000   \n",
       "155    1450000        23.0    1.0            1936.0  2012-10-22    1450000   \n",
       "156    2495000        56.0    3.0            1935.0  2012-10-09    2200000   \n",
       "157    2300000        50.0    2.0            1935.0  2012-10-09    2180000   \n",
       "\n",
       "            ppsqm  \n",
       "0    52328.767123  \n",
       "1    65416.666667  \n",
       "2    75432.098765  \n",
       "3    75233.644860  \n",
       "4    82758.620690  \n",
       "..            ...  \n",
       "153  56730.769231  \n",
       "154  44900.000000  \n",
       "155  63043.478261  \n",
       "156  39285.714286  \n",
       "157  43600.000000  \n",
       "\n",
       "[158 rows x 7 columns]"
      ]
     },
     "execution_count": 6,
     "metadata": {},
     "output_type": "execute_result"
    }
   ],
   "source": [
    "df_appartment_prices_relevent[\"ppsqm\"] = df_appartment_prices_relevent[\"soldPrice\"] / df_appartment_prices[\"livingArea\"]\n",
    "df_appartment_prices_relevent"
   ]
  },
  {
   "cell_type": "markdown",
   "id": "a31dd0f2-3f21-4a01-9b0f-52c2804d92e5",
   "metadata": {},
   "source": [
    "Sort it by ppsqm, only show the top five using head function."
   ]
  },
  {
   "cell_type": "code",
   "execution_count": 7,
   "id": "4d1d52db-f5f2-45a9-9600-2ab660219b81",
   "metadata": {
    "scrolled": true
   },
   "outputs": [
    {
     "data": {
      "text/html": [
       "<div>\n",
       "<style scoped>\n",
       "    .dataframe tbody tr th:only-of-type {\n",
       "        vertical-align: middle;\n",
       "    }\n",
       "\n",
       "    .dataframe tbody tr th {\n",
       "        vertical-align: top;\n",
       "    }\n",
       "\n",
       "    .dataframe thead th {\n",
       "        text-align: right;\n",
       "    }\n",
       "</style>\n",
       "<table border=\"1\" class=\"dataframe\">\n",
       "  <thead>\n",
       "    <tr style=\"text-align: right;\">\n",
       "      <th></th>\n",
       "      <th>listPrice</th>\n",
       "      <th>livingArea</th>\n",
       "      <th>rooms</th>\n",
       "      <th>constructionYear</th>\n",
       "      <th>soldDate</th>\n",
       "      <th>soldPrice</th>\n",
       "      <th>ppsqm</th>\n",
       "    </tr>\n",
       "  </thead>\n",
       "  <tbody>\n",
       "    <tr>\n",
       "      <th>67</th>\n",
       "      <td>1595000</td>\n",
       "      <td>24.0</td>\n",
       "      <td>1.0</td>\n",
       "      <td>1935.0</td>\n",
       "      <td>2016-01-21</td>\n",
       "      <td>2500000</td>\n",
       "      <td>104166.666667</td>\n",
       "    </tr>\n",
       "    <tr>\n",
       "      <th>50</th>\n",
       "      <td>1890000</td>\n",
       "      <td>24.0</td>\n",
       "      <td>1.0</td>\n",
       "      <td>1935.0</td>\n",
       "      <td>2016-06-21</td>\n",
       "      <td>2450000</td>\n",
       "      <td>102083.333333</td>\n",
       "    </tr>\n",
       "    <tr>\n",
       "      <th>54</th>\n",
       "      <td>1795000</td>\n",
       "      <td>23.0</td>\n",
       "      <td>1.0</td>\n",
       "      <td>1935.0</td>\n",
       "      <td>2016-04-28</td>\n",
       "      <td>2300000</td>\n",
       "      <td>100000.000000</td>\n",
       "    </tr>\n",
       "    <tr>\n",
       "      <th>34</th>\n",
       "      <td>1750000</td>\n",
       "      <td>25.0</td>\n",
       "      <td>1.0</td>\n",
       "      <td>1936.0</td>\n",
       "      <td>2017-06-01</td>\n",
       "      <td>2210000</td>\n",
       "      <td>88400.000000</td>\n",
       "    </tr>\n",
       "    <tr>\n",
       "      <th>55</th>\n",
       "      <td>1895000</td>\n",
       "      <td>26.9</td>\n",
       "      <td>1.0</td>\n",
       "      <td>1968.0</td>\n",
       "      <td>2016-04-19</td>\n",
       "      <td>2300000</td>\n",
       "      <td>85501.858736</td>\n",
       "    </tr>\n",
       "  </tbody>\n",
       "</table>\n",
       "</div>"
      ],
      "text/plain": [
       "    listPrice  livingArea  rooms  constructionYear    soldDate  soldPrice  \\\n",
       "67    1595000        24.0    1.0            1935.0  2016-01-21    2500000   \n",
       "50    1890000        24.0    1.0            1935.0  2016-06-21    2450000   \n",
       "54    1795000        23.0    1.0            1935.0  2016-04-28    2300000   \n",
       "34    1750000        25.0    1.0            1936.0  2017-06-01    2210000   \n",
       "55    1895000        26.9    1.0            1968.0  2016-04-19    2300000   \n",
       "\n",
       "            ppsqm  \n",
       "67  104166.666667  \n",
       "50  102083.333333  \n",
       "54  100000.000000  \n",
       "34   88400.000000  \n",
       "55   85501.858736  "
      ]
     },
     "execution_count": 7,
     "metadata": {},
     "output_type": "execute_result"
    }
   ],
   "source": [
    "df_appartment_prices_sorted = df_appartment_prices_relevent.sort_values(\"ppsqm\", ascending = False)\n",
    "df_appartment_prices_sorted.head(5)"
   ]
  },
  {
   "cell_type": "markdown",
   "id": "fa3eb84b-28e5-4a93-8f82-4f76f36ddcbf",
   "metadata": {},
   "source": [
    "Calculate the average using the .mean() function."
   ]
  },
  {
   "cell_type": "code",
   "execution_count": 8,
   "id": "43d31990-058c-4411-9075-82e43257e25b",
   "metadata": {},
   "outputs": [
    {
     "data": {
      "text/plain": [
       "58759.382760081724"
      ]
     },
     "execution_count": 8,
     "metadata": {},
     "output_type": "execute_result"
    }
   ],
   "source": [
    "average_ppsqm = df_appartment_prices_sorted[\"ppsqm\"].mean()\n",
    "float(average_ppsqm)"
   ]
  },
  {
   "cell_type": "markdown",
   "id": "32a440d9-06c6-46d8-8dab-068665c90bcd",
   "metadata": {},
   "source": [
    "I want to examine if the year the appartment where built has any correlation with the ppsqm."
   ]
  },
  {
   "cell_type": "code",
   "execution_count": 9,
   "id": "48ae6d11-caa7-45c0-a260-4578c3227059",
   "metadata": {},
   "outputs": [],
   "source": [
    "df_appartment_prices_sorted_by_year = df_appartment_prices_relevent.sort_values(\"constructionYear\", ascending = True)"
   ]
  },
  {
   "cell_type": "code",
   "execution_count": 10,
   "id": "8630c603-b64f-4022-993d-2fc8052eb1b2",
   "metadata": {},
   "outputs": [],
   "source": [
    "df_no_na = df_appartment_prices_sorted_by_year.dropna(subset=[\"constructionYear\"])\n",
    "average_new = df_no_na.tail(20)[\"ppsqm\"].mean()\n",
    "average_old = df_no_na.head(20)[\"ppsqm\"].mean()"
   ]
  },
  {
   "cell_type": "code",
   "execution_count": 11,
   "id": "6ca56b39-9d74-4d98-b7a0-9ea69016e1b0",
   "metadata": {},
   "outputs": [
    {
     "data": {
      "text/plain": [
       "53924"
      ]
     },
     "execution_count": 11,
     "metadata": {},
     "output_type": "execute_result"
    }
   ],
   "source": [
    "int(average_new)"
   ]
  },
  {
   "cell_type": "code",
   "execution_count": 12,
   "id": "bf5d8316-2904-4703-893b-df3fb5af847e",
   "metadata": {},
   "outputs": [
    {
     "data": {
      "text/plain": [
       "65396"
      ]
     },
     "execution_count": 12,
     "metadata": {},
     "output_type": "execute_result"
    }
   ],
   "source": [
    "int(average_old)"
   ]
  },
  {
   "cell_type": "markdown",
   "id": "284ab817-9f4f-4c8c-8c68-660d6ceb4024",
   "metadata": {},
   "source": [
    "### Conclusion"
   ]
  },
  {
   "cell_type": "markdown",
   "id": "115b9552-71bc-44a9-9d70-5bd937b8de48",
   "metadata": {},
   "source": [
    "The 20 oldest appartments are on average more expensive per squaremeter then the 20 newest. You could try this with tail/head (30) or (50) and get a similar result."
   ]
  },
  {
   "cell_type": "markdown",
   "id": "8f0f575f-6c22-4b75-9ba0-98669fc740f8",
   "metadata": {},
   "source": [
    "## The Swedish Election of 2018\n"
   ]
  },
  {
   "cell_type": "markdown",
   "id": "f5cbd6e3-bb90-4a35-8809-9a4af668bbdc",
   "metadata": {},
   "source": [
    "Read the file, setting conditions for delimiters, decimals and NA values."
   ]
  },
  {
   "cell_type": "code",
   "execution_count": 13,
   "id": "42be809c-6459-45aa-b871-767758e961cf",
   "metadata": {},
   "outputs": [],
   "source": [
    "df_election = pd.read_csv(\"https://raw.githubusercontent.com/su-mt4007/data/refs/heads/main/2018_R_per_kommun.csv\", delimiter = \";\", decimal = \",\", na_values = [\" \", \"\"])"
   ]
  },
  {
   "cell_type": "code",
   "execution_count": 14,
   "id": "b3c3bd35-68b9-4fb1-91de-a7479f7e1493",
   "metadata": {},
   "outputs": [],
   "source": [
    "df_stockholm = df_election[df_election[\"LÄNSNAMN\"].str.contains(\"Stockholms län\")]"
   ]
  },
  {
   "cell_type": "code",
   "execution_count": 15,
   "id": "f0070c19-95ea-4a1d-bdfa-77992a681a10",
   "metadata": {},
   "outputs": [
    {
     "data": {
      "text/plain": [
       "1426237"
      ]
     },
     "execution_count": 15,
     "metadata": {},
     "output_type": "execute_result"
    }
   ],
   "source": [
    "legitimate_total = df_stockholm[\"RÖSTER GILTIGA\"].sum()\n",
    "int(legitimate_total)"
   ]
  },
  {
   "cell_type": "code",
   "execution_count": 16,
   "id": "77e8e990-49d7-418f-ad70-68c998eb6b52",
   "metadata": {},
   "outputs": [
    {
     "data": {
      "text/plain": [
       "'Munkfors'"
      ]
     },
     "execution_count": 16,
     "metadata": {},
     "output_type": "execute_result"
    }
   ],
   "source": [
    "highest_S = df_election.sort_values(\"S\", ascending = False).iloc[0][\"KOMMUNNAMN\"]\n",
    "highest_S"
   ]
  },
  {
   "cell_type": "code",
   "execution_count": 17,
   "id": "c6be60e7-ee09-4718-9c1e-b39180660415",
   "metadata": {},
   "outputs": [
    {
     "data": {
      "text/html": [
       "<div>\n",
       "<style scoped>\n",
       "    .dataframe tbody tr th:only-of-type {\n",
       "        vertical-align: middle;\n",
       "    }\n",
       "\n",
       "    .dataframe tbody tr th {\n",
       "        vertical-align: top;\n",
       "    }\n",
       "\n",
       "    .dataframe thead th {\n",
       "        text-align: right;\n",
       "    }\n",
       "</style>\n",
       "<table border=\"1\" class=\"dataframe\">\n",
       "  <thead>\n",
       "    <tr style=\"text-align: right;\">\n",
       "      <th></th>\n",
       "      <th>KOMMUNNAMN</th>\n",
       "      <th>VALDELTAGANDE</th>\n",
       "    </tr>\n",
       "  </thead>\n",
       "  <tbody>\n",
       "    <tr>\n",
       "      <th>103</th>\n",
       "      <td>Lomma</td>\n",
       "      <td>93.86</td>\n",
       "    </tr>\n",
       "    <tr>\n",
       "      <th>59</th>\n",
       "      <td>Habo</td>\n",
       "      <td>93.35</td>\n",
       "    </tr>\n",
       "    <tr>\n",
       "      <th>98</th>\n",
       "      <td>Vellinge</td>\n",
       "      <td>93.13</td>\n",
       "    </tr>\n",
       "    <tr>\n",
       "      <th>22</th>\n",
       "      <td>Vaxholm</td>\n",
       "      <td>92.74</td>\n",
       "    </tr>\n",
       "    <tr>\n",
       "      <th>5</th>\n",
       "      <td>Ekerö</td>\n",
       "      <td>92.16</td>\n",
       "    </tr>\n",
       "  </tbody>\n",
       "</table>\n",
       "</div>"
      ],
      "text/plain": [
       "    KOMMUNNAMN  VALDELTAGANDE\n",
       "103      Lomma          93.86\n",
       "59        Habo          93.35\n",
       "98    Vellinge          93.13\n",
       "22     Vaxholm          92.74\n",
       "5        Ekerö          92.16"
      ]
     },
     "execution_count": 17,
     "metadata": {},
     "output_type": "execute_result"
    }
   ],
   "source": [
    "df_sorted_participation = df_election.sort_values(\"VALDELTAGANDE\", ascending = False)\n",
    "df_sorted_participation_relevent = df_sorted_participation[[\"KOMMUNNAMN\", \"VALDELTAGANDE\"]]\n",
    "df_sorted_participation_relevent.head(5)"
   ]
  },
  {
   "cell_type": "markdown",
   "id": "50377ab1-9c0e-45ec-8b25-ba4c408a226f",
   "metadata": {},
   "source": [
    "# Predicting Strokes"
   ]
  },
  {
   "cell_type": "code",
   "execution_count": 18,
   "id": "714d9212-b445-4ddc-9551-e60a7190dac2",
   "metadata": {},
   "outputs": [],
   "source": [
    "df_stroke = pd.read_csv(\"https://raw.githubusercontent.com/su-mt4007/data/refs/heads/main/stroke-data.csv\")"
   ]
  },
  {
   "cell_type": "code",
   "execution_count": 19,
   "id": "62365df1-c00d-474c-828a-f1f1e8c1bfc1",
   "metadata": {},
   "outputs": [],
   "source": [
    "heart_disease_total = df_stroke[\"heart_disease\"].value_counts()"
   ]
  },
  {
   "cell_type": "code",
   "execution_count": 20,
   "id": "7c68e50d-174f-4b7b-855e-92f4cdd0fbd9",
   "metadata": {},
   "outputs": [],
   "source": [
    "percentage_total = int(heart_disease_total[1]) / int(heart_disease_total.sum())"
   ]
  },
  {
   "cell_type": "code",
   "execution_count": 36,
   "id": "631ba52b-afa1-40b0-b039-543e3960ee50",
   "metadata": {},
   "outputs": [],
   "source": [
    "df_rural = df_stroke[df_stroke[\"Residence_type\"].str.contains(\"Rural\")]\n",
    "heart_disease_rural = df_rural[\"heart_disease\"].value_counts()"
   ]
  },
  {
   "cell_type": "code",
   "execution_count": 22,
   "id": "2dd1b43a-1b9b-4b7b-ad35-f37a6cbbe2ba",
   "metadata": {},
   "outputs": [],
   "source": [
    "percentage_rural = int(heart_disease_rural[1]) / int(heart_disease_rural.sum())"
   ]
  },
  {
   "cell_type": "code",
   "execution_count": 23,
   "id": "0a5bb523-291b-42c0-b9b0-1dc5f38e182f",
   "metadata": {},
   "outputs": [],
   "source": [
    "df_urban = df_stroke[df_stroke[\"Residence_type\"].str.contains(\"Urban\")]\n",
    "heart_disease_urban = df_urban[\"heart_disease\"].value_counts()"
   ]
  },
  {
   "cell_type": "code",
   "execution_count": 24,
   "id": "dce56738-b7af-4e4b-becd-ed20099e5f88",
   "metadata": {},
   "outputs": [],
   "source": [
    "percentage_urban = int(heart_disease_urban[1]) / int(heart_disease_urban.sum())"
   ]
  },
  {
   "cell_type": "code",
   "execution_count": 25,
   "id": "ba9920e5-d948-4d7d-89d1-0296a06a972d",
   "metadata": {},
   "outputs": [],
   "source": [
    "df_smokes = df_stroke[df_stroke[\"smoking_status\"].str.contains(\"smokes\")]\n",
    "heart_disease_smokes = df_smokes[\"heart_disease\"].value_counts()"
   ]
  },
  {
   "cell_type": "code",
   "execution_count": 26,
   "id": "0ce3ae70-63d7-45ef-b780-430f23de23cf",
   "metadata": {},
   "outputs": [],
   "source": [
    "percentage_smokes = int(heart_disease_smokes[1]) / int(heart_disease_smokes.sum())"
   ]
  },
  {
   "cell_type": "code",
   "execution_count": 27,
   "id": "e595e507-05a0-4664-8ec7-40ce06e3e174",
   "metadata": {},
   "outputs": [],
   "source": [
    "df_never_smoked = df_stroke[df_stroke[\"smoking_status\"].str.contains(\"never smoked\")]\n",
    "heart_disease_never_smoked = df_never_smoked[\"heart_disease\"].value_counts()"
   ]
  },
  {
   "cell_type": "code",
   "execution_count": 28,
   "id": "4e81b243-78ae-428b-a8ec-e9d39897bda7",
   "metadata": {},
   "outputs": [],
   "source": [
    "percentage_never_smoked = int(heart_disease_never_smoked[1]) / int(heart_disease_never_smoked.sum())"
   ]
  },
  {
   "cell_type": "code",
   "execution_count": 29,
   "id": "f961de52-adf4-45e4-86d4-a2b8d4a340d5",
   "metadata": {},
   "outputs": [],
   "source": [
    "df_formerly_smoked = df_stroke[df_stroke[\"smoking_status\"].str.contains(\"formerly smoked\")]\n",
    "heart_disease_formerly_smoked = df_formerly_smoked[\"heart_disease\"].value_counts()"
   ]
  },
  {
   "cell_type": "code",
   "execution_count": 30,
   "id": "971aa3b7-f5d6-4585-aab6-97966ed8b4be",
   "metadata": {},
   "outputs": [],
   "source": [
    "percentage_formerly_smoked = int(heart_disease_formerly_smoked[1]) / int(heart_disease_formerly_smoked.sum())"
   ]
  },
  {
   "cell_type": "code",
   "execution_count": 31,
   "id": "e79a88ea-8ce3-464d-98a3-3233c3504faf",
   "metadata": {},
   "outputs": [],
   "source": [
    "percentage_dict = { \n",
    "    \"Total\" : percentage_total,\n",
    "    \"Rural\" : percentage_rural,\n",
    "    \"Urban\" : percentage_urban, \n",
    "    \"Smokes\" : percentage_smokes, \n",
    "    \"Formerly \\n smoked\" : percentage_formerly_smoked, \n",
    "    \"Never \\n smoked\" : percentage_never_smoked}"
   ]
  },
  {
   "cell_type": "code",
   "execution_count": 32,
   "id": "69976051-7756-47a4-85b8-9d167d431620",
   "metadata": {},
   "outputs": [],
   "source": [
    "labels = list(percentage_dict.keys())\n",
    "percentages = [value * 100 for value in percentage_dict.values()]"
   ]
  },
  {
   "cell_type": "code",
   "execution_count": 33,
   "id": "64f1747d-98cf-4cc4-bc10-336f07732c58",
   "metadata": {},
   "outputs": [],
   "source": [
    "import matplotlib.pyplot as plt"
   ]
  },
  {
   "cell_type": "code",
   "execution_count": 34,
   "id": "be09a719-99da-4768-8c8a-3e881ec398b6",
   "metadata": {},
   "outputs": [
    {
     "data": {
      "image/png": "[encoded data removed]",
      "text/plain": [
       "<Figure size 640x480 with 1 Axes>"
      ]
     },
     "metadata": {},
     "output_type": "display_data"
    }
   ],
   "source": [
    "plt.bar(labels, percentages, color='skyblue')\n",
    "plt.xlabel(\"Groups\")\n",
    "plt.ylabel(\"Percentages (%)\")\n",
    "plt.title(\"How many percent in each group had a heart disease (%)\")\n",
    "plt.show()"
   ]
  },
  {
   "cell_type": "markdown",
   "id": "0151615e-1ac8-4979-b65b-f6edea3e59b3",
   "metadata": {},
   "source": [
    "### Conclusion"
   ]
  },
  {
   "cell_type": "markdown",
   "id": "029e9a78-0f0e-472c-b17e-4a5718ff1846",
   "metadata": {},
   "source": [
    "Based only on this sample and information, smoking seem to affect the chances of having a heart disease more then if you live in a rural or urban enviroment. No more mayor conclusions should be drawn because the data does not provide enough information. For example we dont know for how long or how much the people who checkes \"Smokes\" or \"Formerly smoked\" do/did smoke, so we should not draw the conclusion that continuing smoking gives you a smaller chance of getting a heart disease then quiting whould do (even if it might look like that based on the plot)."
   ]
  },
  {
   "cell_type": "code",
   "execution_count": null,
   "id": "6dab4890-9cb6-4a94-a6c7-df6b6a22cdd6",
   "metadata": {},
   "outputs": [],
   "source": []
  },
  {
   "cell_type": "code",
   "execution_count": null,
   "id": "de954520-be9f-4e91-b508-c82bfd01f76a",
   "metadata": {},
   "outputs": [],
   "source": []
  }
 ],
 "metadata": {
  "kernelspec": {
   "display_name": "Python 3 (ipykernel)",
   "language": "python",
   "name": "python3"
  },
  "language_info": {
   "codemirror_mode": {
    "name": "ipython",
    "version": 3
   },
   "file_extension": ".py",
   "mimetype": "text/x-python",
   "name": "python",
   "nbconvert_exporter": "python",
   "pygments_lexer": "ipython3",
   "version": "3.13.0"
  }
 },
 "nbformat": 4,
 "nbformat_minor": 5
}
